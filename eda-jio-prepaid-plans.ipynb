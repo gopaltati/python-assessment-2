{
 "cells": [
  {
   "cell_type": "code",
   "execution_count": 1,
   "id": "2dcc949f",
   "metadata": {
    "_cell_guid": "b1076dfc-b9ad-4769-8c92-a6c4dae69d19",
    "_uuid": "8f2839f25d086af736a60e9eeb907d3b93b6e0e5",
    "execution": {
     "iopub.execute_input": "2022-07-06T03:03:23.698585Z",
     "iopub.status.busy": "2022-07-06T03:03:23.697852Z",
     "iopub.status.idle": "2022-07-06T03:03:23.724252Z",
     "shell.execute_reply": "2022-07-06T03:03:23.722677Z"
    },
    "papermill": {
     "duration": 0.042715,
     "end_time": "2022-07-06T03:03:23.728243",
     "exception": false,
     "start_time": "2022-07-06T03:03:23.685528",
     "status": "completed"
    },
    "tags": []
   },
   "outputs": [
    {
     "name": "stdout",
     "output_type": "stream",
     "text": [
      "/kaggle/input/jioprepaidplans/Jio - Jio Prepaid Planes.csv\n"
     ]
    }
   ],
   "source": [
    "# This Python 3 environment comes with many helpful analytics libraries installed\n",
    "# It is defined by the kaggle/python Docker image: https://github.com/kaggle/docker-python\n",
    "# For example, here's several helpful packages to load\n",
    "\n",
    "import numpy as np # linear algebra\n",
    "import pandas as pd # data processing, CSV file I/O (e.g. pd.read_csv)\n",
    "\n",
    "# Input data files are available in the read-only \"../input/\" directory\n",
    "# For example, running this (by clicking run or pressing Shift+Enter) will list all files under the input directory\n",
    "\n",
    "import os\n",
    "for dirname, _, filenames in os.walk('/kaggle/input'):\n",
    "    for filename in filenames:\n",
    "        print(os.path.join(dirname, filename))\n",
    "\n",
    "# You can write up to 20GB to the current directory (/kaggle/working/) that gets preserved as output when you create a version using \"Save & Run All\" \n",
    "# You can also write temporary files to /kaggle/temp/, but they won't be saved outside of the current session"
   ]
  },
  {
   "cell_type": "markdown",
   "id": "7850fa7c",
   "metadata": {
    "papermill": {
     "duration": 0.009419,
     "end_time": "2022-07-06T03:03:23.747906",
     "exception": false,
     "start_time": "2022-07-06T03:03:23.738487",
     "status": "completed"
    },
    "tags": []
   },
   "source": [
    "# Data Analysis and Visualization Notebook"
   ]
  },
  {
   "cell_type": "markdown",
   "id": "ce95dac7",
   "metadata": {
    "papermill": {
     "duration": 0.009227,
     "end_time": "2022-07-06T03:03:23.766898",
     "exception": false,
     "start_time": "2022-07-06T03:03:23.757671",
     "status": "completed"
    },
    "tags": []
   },
   "source": [
    "> This dataset covers various plans that Reliance Jio Prepaid offers to its customers. Based upon that the dataset has following columns.\n",
    "\n",
    "> Days - Includes number of days a plan offers\n",
    "\n",
    "> Price - Includes price for the offered day\n",
    "\n",
    "> Price/Day - How much price does customer conquer in a day\n",
    "\n",
    "> For 365 Days - Price for 365 days\n",
    "\n",
    "> Profit per customer - How much profit does jio makes per customer\n",
    "\n",
    "> From 400 Million users - Profit from 400M users\n",
    "\n",
    "> Data_per_day - Amount of data they provide to user per day according to the plan."
   ]
  },
  {
   "cell_type": "markdown",
   "id": "de640ca0",
   "metadata": {
    "papermill": {
     "duration": 0.009333,
     "end_time": "2022-07-06T03:03:23.786451",
     "exception": false,
     "start_time": "2022-07-06T03:03:23.777118",
     "status": "completed"
    },
    "tags": []
   },
   "source": [
    "# Reading Data"
   ]
  },
  {
   "cell_type": "code",
   "execution_count": 2,
   "id": "d8b7a92b",
   "metadata": {
    "execution": {
     "iopub.execute_input": "2022-07-06T03:03:23.808296Z",
     "iopub.status.busy": "2022-07-06T03:03:23.807340Z",
     "iopub.status.idle": "2022-07-06T03:03:23.839513Z",
     "shell.execute_reply": "2022-07-06T03:03:23.838410Z"
    },
    "papermill": {
     "duration": 0.045244,
     "end_time": "2022-07-06T03:03:23.841870",
     "exception": false,
     "start_time": "2022-07-06T03:03:23.796626",
     "status": "completed"
    },
    "tags": []
   },
   "outputs": [
    {
     "data": {
      "text/html": [
       "<div>\n",
       "<style scoped>\n",
       "    .dataframe tbody tr th:only-of-type {\n",
       "        vertical-align: middle;\n",
       "    }\n",
       "\n",
       "    .dataframe tbody tr th {\n",
       "        vertical-align: top;\n",
       "    }\n",
       "\n",
       "    .dataframe thead th {\n",
       "        text-align: right;\n",
       "    }\n",
       "</style>\n",
       "<table border=\"1\" class=\"dataframe\">\n",
       "  <thead>\n",
       "    <tr style=\"text-align: right;\">\n",
       "      <th></th>\n",
       "      <th>Days</th>\n",
       "      <th>Price</th>\n",
       "      <th>Price/Day</th>\n",
       "      <th>For 365 Days</th>\n",
       "      <th>Profit per customer</th>\n",
       "      <th>From 400 Million users</th>\n",
       "      <th>Data_per_day</th>\n",
       "    </tr>\n",
       "  </thead>\n",
       "  <tbody>\n",
       "    <tr>\n",
       "      <th>0</th>\n",
       "      <td>28</td>\n",
       "      <td>209</td>\n",
       "      <td>7.464286</td>\n",
       "      <td>2724.464286</td>\n",
       "      <td>5.214286</td>\n",
       "      <td>2085.714286</td>\n",
       "      <td>1.0</td>\n",
       "    </tr>\n",
       "    <tr>\n",
       "      <th>1</th>\n",
       "      <td>24</td>\n",
       "      <td>179</td>\n",
       "      <td>7.458333</td>\n",
       "      <td>2722.291667</td>\n",
       "      <td>3.041667</td>\n",
       "      <td>1216.666667</td>\n",
       "      <td>1.0</td>\n",
       "    </tr>\n",
       "    <tr>\n",
       "      <th>2</th>\n",
       "      <td>20</td>\n",
       "      <td>149</td>\n",
       "      <td>7.450000</td>\n",
       "      <td>2719.250000</td>\n",
       "      <td>0.000000</td>\n",
       "      <td>0.000000</td>\n",
       "      <td>1.0</td>\n",
       "    </tr>\n",
       "    <tr>\n",
       "      <th>3</th>\n",
       "      <td>336</td>\n",
       "      <td>2545</td>\n",
       "      <td>7.574405</td>\n",
       "      <td>2764.657738</td>\n",
       "      <td>0.000000</td>\n",
       "      <td>0.000000</td>\n",
       "      <td>1.5</td>\n",
       "    </tr>\n",
       "    <tr>\n",
       "      <th>4</th>\n",
       "      <td>84</td>\n",
       "      <td>666</td>\n",
       "      <td>7.928571</td>\n",
       "      <td>2893.928571</td>\n",
       "      <td>129.270833</td>\n",
       "      <td>51708.333330</td>\n",
       "      <td>1.5</td>\n",
       "    </tr>\n",
       "  </tbody>\n",
       "</table>\n",
       "</div>"
      ],
      "text/plain": [
       "   Days  Price  Price/Day  For 365 Days  Profit per customer  \\\n",
       "0    28    209   7.464286   2724.464286             5.214286   \n",
       "1    24    179   7.458333   2722.291667             3.041667   \n",
       "2    20    149   7.450000   2719.250000             0.000000   \n",
       "3   336   2545   7.574405   2764.657738             0.000000   \n",
       "4    84    666   7.928571   2893.928571           129.270833   \n",
       "\n",
       "   From 400 Million users  Data_per_day  \n",
       "0             2085.714286           1.0  \n",
       "1             1216.666667           1.0  \n",
       "2                0.000000           1.0  \n",
       "3                0.000000           1.5  \n",
       "4            51708.333330           1.5  "
      ]
     },
     "execution_count": 2,
     "metadata": {},
     "output_type": "execute_result"
    }
   ],
   "source": [
    "df = pd.read_csv('/kaggle/input/jioprepaidplans/Jio - Jio Prepaid Planes.csv')\n",
    "df.head()"
   ]
  },
  {
   "cell_type": "code",
   "execution_count": 3,
   "id": "9a823f03",
   "metadata": {
    "execution": {
     "iopub.execute_input": "2022-07-06T03:03:23.863207Z",
     "iopub.status.busy": "2022-07-06T03:03:23.862851Z",
     "iopub.status.idle": "2022-07-06T03:03:23.887808Z",
     "shell.execute_reply": "2022-07-06T03:03:23.886523Z"
    },
    "papermill": {
     "duration": 0.038867,
     "end_time": "2022-07-06T03:03:23.890417",
     "exception": false,
     "start_time": "2022-07-06T03:03:23.851550",
     "status": "completed"
    },
    "tags": []
   },
   "outputs": [
    {
     "name": "stdout",
     "output_type": "stream",
     "text": [
      "<class 'pandas.core.frame.DataFrame'>\n",
      "RangeIndex: 16 entries, 0 to 15\n",
      "Data columns (total 7 columns):\n",
      " #   Column                  Non-Null Count  Dtype  \n",
      "---  ------                  --------------  -----  \n",
      " 0   Days                    16 non-null     int64  \n",
      " 1   Price                   16 non-null     int64  \n",
      " 2   Price/Day               16 non-null     float64\n",
      " 3   For 365 Days            16 non-null     float64\n",
      " 4   Profit per customer     16 non-null     float64\n",
      " 5   From 400 Million users  16 non-null     float64\n",
      " 6   Data_per_day            16 non-null     float64\n",
      "dtypes: float64(5), int64(2)\n",
      "memory usage: 1.0 KB\n"
     ]
    }
   ],
   "source": [
    "df.info()"
   ]
  },
  {
   "cell_type": "code",
   "execution_count": 4,
   "id": "0bb73bb2",
   "metadata": {
    "execution": {
     "iopub.execute_input": "2022-07-06T03:03:23.911916Z",
     "iopub.status.busy": "2022-07-06T03:03:23.911253Z",
     "iopub.status.idle": "2022-07-06T03:03:23.945077Z",
     "shell.execute_reply": "2022-07-06T03:03:23.944263Z"
    },
    "papermill": {
     "duration": 0.047813,
     "end_time": "2022-07-06T03:03:23.947688",
     "exception": false,
     "start_time": "2022-07-06T03:03:23.899875",
     "status": "completed"
    },
    "tags": []
   },
   "outputs": [
    {
     "data": {
      "text/html": [
       "<div>\n",
       "<style scoped>\n",
       "    .dataframe tbody tr th:only-of-type {\n",
       "        vertical-align: middle;\n",
       "    }\n",
       "\n",
       "    .dataframe tbody tr th {\n",
       "        vertical-align: top;\n",
       "    }\n",
       "\n",
       "    .dataframe thead th {\n",
       "        text-align: right;\n",
       "    }\n",
       "</style>\n",
       "<table border=\"1\" class=\"dataframe\">\n",
       "  <thead>\n",
       "    <tr style=\"text-align: right;\">\n",
       "      <th></th>\n",
       "      <th>Days</th>\n",
       "      <th>Price</th>\n",
       "      <th>Price/Day</th>\n",
       "      <th>For 365 Days</th>\n",
       "      <th>Profit per customer</th>\n",
       "      <th>From 400 Million users</th>\n",
       "      <th>Data_per_day</th>\n",
       "    </tr>\n",
       "  </thead>\n",
       "  <tbody>\n",
       "    <tr>\n",
       "      <th>count</th>\n",
       "      <td>16.000000</td>\n",
       "      <td>16.000000</td>\n",
       "      <td>16.000000</td>\n",
       "      <td>16.000000</td>\n",
       "      <td>16.000000</td>\n",
       "      <td>16.000000</td>\n",
       "      <td>16.000000</td>\n",
       "    </tr>\n",
       "    <tr>\n",
       "      <th>mean</th>\n",
       "      <td>76.687500</td>\n",
       "      <td>663.812500</td>\n",
       "      <td>9.306167</td>\n",
       "      <td>3396.750914</td>\n",
       "      <td>306.361219</td>\n",
       "      <td>122544.487586</td>\n",
       "      <td>1.718750</td>\n",
       "    </tr>\n",
       "    <tr>\n",
       "      <th>std</th>\n",
       "      <td>109.140716</td>\n",
       "      <td>845.097645</td>\n",
       "      <td>2.320658</td>\n",
       "      <td>847.040309</td>\n",
       "      <td>345.420462</td>\n",
       "      <td>138168.184724</td>\n",
       "      <td>0.604669</td>\n",
       "    </tr>\n",
       "    <tr>\n",
       "      <th>min</th>\n",
       "      <td>14.000000</td>\n",
       "      <td>119.000000</td>\n",
       "      <td>7.450000</td>\n",
       "      <td>2719.250000</td>\n",
       "      <td>0.000000</td>\n",
       "      <td>0.000000</td>\n",
       "      <td>1.000000</td>\n",
       "    </tr>\n",
       "    <tr>\n",
       "      <th>25%</th>\n",
       "      <td>23.750000</td>\n",
       "      <td>206.500000</td>\n",
       "      <td>7.809355</td>\n",
       "      <td>2850.414434</td>\n",
       "      <td>2.281250</td>\n",
       "      <td>912.500000</td>\n",
       "      <td>1.500000</td>\n",
       "    </tr>\n",
       "    <tr>\n",
       "      <th>50%</th>\n",
       "      <td>28.000000</td>\n",
       "      <td>279.000000</td>\n",
       "      <td>8.544643</td>\n",
       "      <td>3118.794643</td>\n",
       "      <td>294.933036</td>\n",
       "      <td>117973.214300</td>\n",
       "      <td>1.500000</td>\n",
       "    </tr>\n",
       "    <tr>\n",
       "      <th>75%</th>\n",
       "      <td>63.000000</td>\n",
       "      <td>566.250000</td>\n",
       "      <td>9.808036</td>\n",
       "      <td>3579.933035</td>\n",
       "      <td>388.228132</td>\n",
       "      <td>155291.252575</td>\n",
       "      <td>2.000000</td>\n",
       "    </tr>\n",
       "    <tr>\n",
       "      <th>max</th>\n",
       "      <td>365.000000</td>\n",
       "      <td>2879.000000</td>\n",
       "      <td>14.964286</td>\n",
       "      <td>5461.964286</td>\n",
       "      <td>1072.521739</td>\n",
       "      <td>429008.695700</td>\n",
       "      <td>3.000000</td>\n",
       "    </tr>\n",
       "  </tbody>\n",
       "</table>\n",
       "</div>"
      ],
      "text/plain": [
       "             Days        Price  Price/Day  For 365 Days  Profit per customer  \\\n",
       "count   16.000000    16.000000  16.000000     16.000000            16.000000   \n",
       "mean    76.687500   663.812500   9.306167   3396.750914           306.361219   \n",
       "std    109.140716   845.097645   2.320658    847.040309           345.420462   \n",
       "min     14.000000   119.000000   7.450000   2719.250000             0.000000   \n",
       "25%     23.750000   206.500000   7.809355   2850.414434             2.281250   \n",
       "50%     28.000000   279.000000   8.544643   3118.794643           294.933036   \n",
       "75%     63.000000   566.250000   9.808036   3579.933035           388.228132   \n",
       "max    365.000000  2879.000000  14.964286   5461.964286          1072.521739   \n",
       "\n",
       "       From 400 Million users  Data_per_day  \n",
       "count               16.000000     16.000000  \n",
       "mean            122544.487586      1.718750  \n",
       "std             138168.184724      0.604669  \n",
       "min                  0.000000      1.000000  \n",
       "25%                912.500000      1.500000  \n",
       "50%             117973.214300      1.500000  \n",
       "75%             155291.252575      2.000000  \n",
       "max             429008.695700      3.000000  "
      ]
     },
     "execution_count": 4,
     "metadata": {},
     "output_type": "execute_result"
    }
   ],
   "source": [
    "df.describe()"
   ]
  },
  {
   "cell_type": "code",
   "execution_count": 5,
   "id": "86630e56",
   "metadata": {
    "execution": {
     "iopub.execute_input": "2022-07-06T03:03:23.971075Z",
     "iopub.status.busy": "2022-07-06T03:03:23.970328Z",
     "iopub.status.idle": "2022-07-06T03:03:23.977788Z",
     "shell.execute_reply": "2022-07-06T03:03:23.976793Z"
    },
    "papermill": {
     "duration": 0.021778,
     "end_time": "2022-07-06T03:03:23.980025",
     "exception": false,
     "start_time": "2022-07-06T03:03:23.958247",
     "status": "completed"
    },
    "tags": []
   },
   "outputs": [
    {
     "data": {
      "text/plain": [
       "Index(['Days', 'Price', 'Price/Day', 'For 365 Days', 'Profit per customer',\n",
       "       'From 400 Million users', 'Data_per_day'],\n",
       "      dtype='object')"
      ]
     },
     "execution_count": 5,
     "metadata": {},
     "output_type": "execute_result"
    }
   ],
   "source": [
    "df.columns"
   ]
  },
  {
   "cell_type": "markdown",
   "id": "cb835c17",
   "metadata": {
    "papermill": {
     "duration": 0.009684,
     "end_time": "2022-07-06T03:03:23.999679",
     "exception": false,
     "start_time": "2022-07-06T03:03:23.989995",
     "status": "completed"
    },
    "tags": []
   },
   "source": [
    "# Let's explore dataset"
   ]
  },
  {
   "cell_type": "code",
   "execution_count": 6,
   "id": "8e8a7903",
   "metadata": {
    "execution": {
     "iopub.execute_input": "2022-07-06T03:03:24.021819Z",
     "iopub.status.busy": "2022-07-06T03:03:24.021157Z",
     "iopub.status.idle": "2022-07-06T03:03:24.028297Z",
     "shell.execute_reply": "2022-07-06T03:03:24.027361Z"
    },
    "papermill": {
     "duration": 0.02133,
     "end_time": "2022-07-06T03:03:24.031190",
     "exception": false,
     "start_time": "2022-07-06T03:03:24.009860",
     "status": "completed"
    },
    "tags": []
   },
   "outputs": [
    {
     "name": "stdout",
     "output_type": "stream",
     "text": [
      "1072.521739\n",
      "Plan with max profit is 23 days plan\n"
     ]
    }
   ],
   "source": [
    "#Max profit per customer\n",
    "\n",
    "max_prof = df['Profit per customer'].max()\n",
    "print(max_prof)\n",
    "max_profit_plan = df.loc[df['Profit per customer'] == max_prof, 'Days'].iloc[0]\n",
    "\n",
    "print('Plan with max profit is {} days plan'.format(max_profit_plan))\n"
   ]
  },
  {
   "cell_type": "code",
   "execution_count": 7,
   "id": "1df3a22e",
   "metadata": {
    "execution": {
     "iopub.execute_input": "2022-07-06T03:03:24.054469Z",
     "iopub.status.busy": "2022-07-06T03:03:24.053823Z",
     "iopub.status.idle": "2022-07-06T03:03:24.060556Z",
     "shell.execute_reply": "2022-07-06T03:03:24.059856Z"
    },
    "papermill": {
     "duration": 0.021948,
     "end_time": "2022-07-06T03:03:24.063428",
     "exception": false,
     "start_time": "2022-07-06T03:03:24.041480",
     "status": "completed"
    },
    "tags": []
   },
   "outputs": [
    {
     "name": "stdout",
     "output_type": "stream",
     "text": [
      "429008.6957\n",
      "Plan with max profit wrt 400M users is 23 days plan\n"
     ]
    }
   ],
   "source": [
    "#Let's check if its true for 400million customers\n",
    "\n",
    "max_prof_400M = df['From 400 Million users'].max()\n",
    "print(max_prof_400M)\n",
    "max_profit_plan = df.loc[df['From 400 Million users'] == max_prof_400M, 'Days'].iloc[0]\n",
    "\n",
    "print('Plan with max profit wrt 400M users is {} days plan'.format(max_profit_plan))\n"
   ]
  },
  {
   "cell_type": "code",
   "execution_count": 8,
   "id": "5397dea0",
   "metadata": {
    "execution": {
     "iopub.execute_input": "2022-07-06T03:03:24.086760Z",
     "iopub.status.busy": "2022-07-06T03:03:24.086175Z",
     "iopub.status.idle": "2022-07-06T03:03:24.092788Z",
     "shell.execute_reply": "2022-07-06T03:03:24.091896Z"
    },
    "papermill": {
     "duration": 0.020583,
     "end_time": "2022-07-06T03:03:24.094887",
     "exception": false,
     "start_time": "2022-07-06T03:03:24.074304",
     "status": "completed"
    },
    "tags": []
   },
   "outputs": [
    {
     "data": {
      "text/plain": [
       "1960711.8013829999"
      ]
     },
     "execution_count": 8,
     "metadata": {},
     "output_type": "execute_result"
    }
   ],
   "source": [
    "#Total money from 400 Million Users in a year\n",
    "total = df['From 400 Million users'].sum()\n",
    "total"
   ]
  },
  {
   "cell_type": "code",
   "execution_count": 9,
   "id": "a7c77b70",
   "metadata": {
    "execution": {
     "iopub.execute_input": "2022-07-06T03:03:24.119165Z",
     "iopub.status.busy": "2022-07-06T03:03:24.118147Z",
     "iopub.status.idle": "2022-07-06T03:03:24.127581Z",
     "shell.execute_reply": "2022-07-06T03:03:24.126399Z"
    },
    "papermill": {
     "duration": 0.02491,
     "end_time": "2022-07-06T03:03:24.130231",
     "exception": false,
     "start_time": "2022-07-06T03:03:24.105321",
     "status": "completed"
    },
    "tags": []
   },
   "outputs": [
    {
     "name": "stdout",
     "output_type": "stream",
     "text": [
      "min price per day 7.45\n",
      "Cheapest Plan per day 20\n",
      "Profit Jio makes at its cheapest plan  0.0\n"
     ]
    }
   ],
   "source": [
    "#Find cheapest plan using price per day\n",
    "\n",
    "#min price per day\n",
    "Least_price = df['Price/Day'].min()\n",
    "print('min price per day', Least_price)\n",
    "\n",
    "#Cheapest plan\n",
    "Cheapest_plan = df.loc[df['Price/Day'] == Least_price, 'Days'].iloc[0]\n",
    "print('Cheapest Plan per day', Cheapest_plan)\n",
    "\n",
    "#Profit from Cheapest plan\n",
    "Profit_min = df.loc[df['Days'] == Cheapest_plan, 'Profit per customer'].iloc[0]\n",
    "print('Profit Jio makes at its cheapest plan ', Profit_min)"
   ]
  },
  {
   "cell_type": "markdown",
   "id": "eefd5b29",
   "metadata": {
    "papermill": {
     "duration": 0.010321,
     "end_time": "2022-07-06T03:03:24.151161",
     "exception": false,
     "start_time": "2022-07-06T03:03:24.140840",
     "status": "completed"
    },
    "tags": []
   },
   "source": [
    "Means 20 day plan is the cheapest plan which costs just Rs 7.45 per day to the customer has zero profits for the company"
   ]
  },
  {
   "cell_type": "code",
   "execution_count": 10,
   "id": "7561a2e3",
   "metadata": {
    "execution": {
     "iopub.execute_input": "2022-07-06T03:03:24.174527Z",
     "iopub.status.busy": "2022-07-06T03:03:24.173536Z",
     "iopub.status.idle": "2022-07-06T03:03:24.182215Z",
     "shell.execute_reply": "2022-07-06T03:03:24.181191Z"
    },
    "papermill": {
     "duration": 0.022937,
     "end_time": "2022-07-06T03:03:24.184558",
     "exception": false,
     "start_time": "2022-07-06T03:03:24.161621",
     "status": "completed"
    },
    "tags": []
   },
   "outputs": [
    {
     "name": "stdout",
     "output_type": "stream",
     "text": [
      "Max Tennure plan 365\n",
      "Price for 365 days plan 2879.0\n"
     ]
    }
   ],
   "source": [
    "#Let's check how much would people be paying if they go for max days plan (365 days)\n",
    "\n",
    "#Find the max tennure plan\n",
    "max_tennure = df['Days'].max()\n",
    "print('Max Tennure plan', max_tennure)\n",
    "\n",
    "#what price do people pay and what do they get\n",
    "price_max = df.loc[df['Days'] == max_tennure, 'For 365 Days'].iloc[0]\n",
    "print('Price for 365 days plan', price_max)"
   ]
  },
  {
   "cell_type": "code",
   "execution_count": 11,
   "id": "b179e398",
   "metadata": {
    "execution": {
     "iopub.execute_input": "2022-07-06T03:03:24.207468Z",
     "iopub.status.busy": "2022-07-06T03:03:24.206394Z",
     "iopub.status.idle": "2022-07-06T03:03:24.214464Z",
     "shell.execute_reply": "2022-07-06T03:03:24.212982Z"
    },
    "papermill": {
     "duration": 0.022117,
     "end_time": "2022-07-06T03:03:24.217071",
     "exception": false,
     "start_time": "2022-07-06T03:03:24.194954",
     "status": "completed"
    },
    "tags": []
   },
   "outputs": [
    {
     "name": "stdout",
     "output_type": "stream",
     "text": [
      "Profit from 365 days plan 0.0\n"
     ]
    }
   ],
   "source": [
    "#Let's see how much profit Jio makes per customer around 365 day plan\n",
    "\n",
    "Profit_max = (df.loc[df['For 365 Days'] == price_max, 'From 400 Million users']).iloc[0]\n",
    "print('Profit from 365 days plan', Profit_max)"
   ]
  },
  {
   "cell_type": "markdown",
   "id": "8c4ea002",
   "metadata": {
    "papermill": {
     "duration": 0.00743,
     "end_time": "2022-07-06T03:03:24.231926",
     "exception": false,
     "start_time": "2022-07-06T03:03:24.224496",
     "status": "completed"
    },
    "tags": []
   },
   "source": [
    "This shows that the max "
   ]
  },
  {
   "cell_type": "code",
   "execution_count": 12,
   "id": "06829a67",
   "metadata": {
    "execution": {
     "iopub.execute_input": "2022-07-06T03:03:24.247950Z",
     "iopub.status.busy": "2022-07-06T03:03:24.247513Z",
     "iopub.status.idle": "2022-07-06T03:03:24.255096Z",
     "shell.execute_reply": "2022-07-06T03:03:24.253251Z"
    },
    "papermill": {
     "duration": 0.018235,
     "end_time": "2022-07-06T03:03:24.257372",
     "exception": false,
     "start_time": "2022-07-06T03:03:24.239137",
     "status": "completed"
    },
    "tags": []
   },
   "outputs": [
    {
     "name": "stdout",
     "output_type": "stream",
     "text": [
      "Max data plan 3.0 GB\n"
     ]
    }
   ],
   "source": [
    "#Check for Max data \n",
    "\n",
    "max_dataplan = df['Data_per_day'].max()\n",
    "print('Max data plan {} GB'.format(max_dataplan))"
   ]
  },
  {
   "cell_type": "code",
   "execution_count": 13,
   "id": "32c8ff9f",
   "metadata": {
    "execution": {
     "iopub.execute_input": "2022-07-06T03:03:24.274405Z",
     "iopub.status.busy": "2022-07-06T03:03:24.273089Z",
     "iopub.status.idle": "2022-07-06T03:03:24.279456Z",
     "shell.execute_reply": "2022-07-06T03:03:24.278461Z"
    },
    "papermill": {
     "duration": 0.017619,
     "end_time": "2022-07-06T03:03:24.282156",
     "exception": false,
     "start_time": "2022-07-06T03:03:24.264537",
     "status": "completed"
    },
    "tags": []
   },
   "outputs": [
    {
     "name": "stdout",
     "output_type": "stream",
     "text": [
      "Min data plan 1.0 GB\n"
     ]
    }
   ],
   "source": [
    "#Let's check for min data plan\n",
    "min_dataplan = df['Data_per_day'].min()\n",
    "print('Min data plan {} GB'.format(min_dataplan))"
   ]
  },
  {
   "cell_type": "markdown",
   "id": "983c4c26",
   "metadata": {
    "papermill": {
     "duration": 0.006774,
     "end_time": "2022-07-06T03:03:24.296566",
     "exception": false,
     "start_time": "2022-07-06T03:03:24.289792",
     "status": "completed"
    },
    "tags": []
   },
   "source": [
    "# Visual Analysis"
   ]
  },
  {
   "cell_type": "code",
   "execution_count": 14,
   "id": "c1271f2d",
   "metadata": {
    "execution": {
     "iopub.execute_input": "2022-07-06T03:03:24.312967Z",
     "iopub.status.busy": "2022-07-06T03:03:24.311677Z",
     "iopub.status.idle": "2022-07-06T03:03:24.318220Z",
     "shell.execute_reply": "2022-07-06T03:03:24.316182Z"
    },
    "papermill": {
     "duration": 0.017511,
     "end_time": "2022-07-06T03:03:24.320955",
     "exception": false,
     "start_time": "2022-07-06T03:03:24.303444",
     "status": "completed"
    },
    "tags": []
   },
   "outputs": [],
   "source": [
    "import matplotlib.pyplot as plt\n"
   ]
  },
  {
   "cell_type": "code",
   "execution_count": 15,
   "id": "5a43b8eb",
   "metadata": {
    "execution": {
     "iopub.execute_input": "2022-07-06T03:03:24.337449Z",
     "iopub.status.busy": "2022-07-06T03:03:24.336798Z",
     "iopub.status.idle": "2022-07-06T03:03:24.599525Z",
     "shell.execute_reply": "2022-07-06T03:03:24.596775Z"
    },
    "papermill": {
     "duration": 0.274539,
     "end_time": "2022-07-06T03:03:24.602863",
     "exception": false,
     "start_time": "2022-07-06T03:03:24.328324",
     "status": "completed"
    },
    "tags": []
   },
   "outputs": [
    {
     "data": {
      "text/plain": [
       "<matplotlib.legend.Legend at 0x7f84c9319490>"
      ]
     },
     "execution_count": 15,
     "metadata": {},
     "output_type": "execute_result"
    },
    {
     "data": {
      "image/png": "[encoded data removed]",
      "text/plain": [
       "<Figure size 432x288 with 1 Axes>"
      ]
     },
     "metadata": {
      "needs_background": "light"
     },
     "output_type": "display_data"
    }
   ],
   "source": [
    "# Let's check which data plan has max users\n",
    "\n",
    "df.Data_per_day.plot(kind = 'hist', color = 'olive')\n",
    "plt.legend()"
   ]
  },
  {
   "cell_type": "markdown",
   "id": "f126e1ed",
   "metadata": {
    "papermill": {
     "duration": 0.006917,
     "end_time": "2022-07-06T03:03:24.617334",
     "exception": false,
     "start_time": "2022-07-06T03:03:24.610417",
     "status": "completed"
    },
    "tags": []
   },
   "source": [
    "From above histogram we can infer that 1.50 Gb data plan is the most popular one."
   ]
  },
  {
   "cell_type": "code",
   "execution_count": 16,
   "id": "d0695b38",
   "metadata": {
    "execution": {
     "iopub.execute_input": "2022-07-06T03:03:24.634438Z",
     "iopub.status.busy": "2022-07-06T03:03:24.634112Z",
     "iopub.status.idle": "2022-07-06T03:03:24.875464Z",
     "shell.execute_reply": "2022-07-06T03:03:24.874782Z"
    },
    "papermill": {
     "duration": 0.252329,
     "end_time": "2022-07-06T03:03:24.877803",
     "exception": false,
     "start_time": "2022-07-06T03:03:24.625474",
     "status": "completed"
    },
    "tags": []
   },
   "outputs": [
    {
     "data": {
      "image/png": "[encoded data removed]",
      "text/plain": [
       "<Figure size 648x576 with 1 Axes>"
      ]
     },
     "metadata": {
      "needs_background": "light"
     },
     "output_type": "display_data"
    }
   ],
   "source": [
    "#Plot for how much data user gets for each plan\n",
    "\n",
    "df.plot(x=\"Days\", y=\"Data_per_day\", kind=\"bar\", figsize=(9, 8), color = 'lightcoral')\n",
    "plt.show()"
   ]
  },
  {
   "cell_type": "markdown",
   "id": "7d8b1d67",
   "metadata": {
    "papermill": {
     "duration": 0.011896,
     "end_time": "2022-07-06T03:03:24.901504",
     "exception": false,
     "start_time": "2022-07-06T03:03:24.889608",
     "status": "completed"
    },
    "tags": []
   },
   "source": [
    "There are 4 entries for 28 days plan, 2 entries for 56 and 84 days plan, i.e these 3 plans come with options of different data plans.\n"
   ]
  },
  {
   "cell_type": "code",
   "execution_count": 17,
   "id": "a956a337",
   "metadata": {
    "execution": {
     "iopub.execute_input": "2022-07-06T03:03:24.927302Z",
     "iopub.status.busy": "2022-07-06T03:03:24.926755Z",
     "iopub.status.idle": "2022-07-06T03:03:25.081621Z",
     "shell.execute_reply": "2022-07-06T03:03:25.080385Z"
    },
    "papermill": {
     "duration": 0.170909,
     "end_time": "2022-07-06T03:03:25.084457",
     "exception": false,
     "start_time": "2022-07-06T03:03:24.913548",
     "status": "completed"
    },
    "tags": []
   },
   "outputs": [
    {
     "data": {
      "text/plain": [
       "<AxesSubplot:ylabel='Profit per customer'>"
      ]
     },
     "execution_count": 17,
     "metadata": {},
     "output_type": "execute_result"
    },
    {
     "data": {
      "image/png": "[encoded data removed]",
      "text/plain": [
       "<Figure size 432x432 with 1 Axes>"
      ]
     },
     "metadata": {},
     "output_type": "display_data"
    }
   ],
   "source": [
    "#Plot for profit per customer\n",
    "\n",
    "df['Profit per customer'].value_counts().head(20).plot(kind = 'pie', figsize = (6,6))"
   ]
  },
  {
   "cell_type": "markdown",
   "id": "373ad311",
   "metadata": {
    "papermill": {
     "duration": 0.015176,
     "end_time": "2022-07-06T03:03:25.114559",
     "exception": false,
     "start_time": "2022-07-06T03:03:25.099383",
     "status": "completed"
    },
    "tags": []
   },
   "source": [
    "About 1/4th part of total plot is 0.0."
   ]
  },
  {
   "cell_type": "code",
   "execution_count": 18,
   "id": "9b2f629c",
   "metadata": {
    "execution": {
     "iopub.execute_input": "2022-07-06T03:03:25.146995Z",
     "iopub.status.busy": "2022-07-06T03:03:25.146235Z",
     "iopub.status.idle": "2022-07-06T03:03:26.665960Z",
     "shell.execute_reply": "2022-07-06T03:03:26.664524Z"
    },
    "papermill": {
     "duration": 1.538713,
     "end_time": "2022-07-06T03:03:26.668359",
     "exception": false,
     "start_time": "2022-07-06T03:03:25.129646",
     "status": "completed"
    },
    "tags": []
   },
   "outputs": [
    {
     "data": {
      "text/plain": [
       "<AxesSubplot:xlabel='Days', ylabel='Profit per customer'>"
      ]
     },
     "execution_count": 18,
     "metadata": {},
     "output_type": "execute_result"
    },
    {
     "data": {
      "image/png": "[encoded data removed]",
      "text/plain": [
       "<Figure size 1800x576 with 1 Axes>"
      ]
     },
     "metadata": {
      "needs_background": "light"
     },
     "output_type": "display_data"
    }
   ],
   "source": [
    "#How many days plan yields max profit per user\n",
    "import seaborn as sns\n",
    "plt.figure(figsize = (25,8))\n",
    "sns.barplot(x = 'Days', y = 'Profit per customer', data = df)"
   ]
  },
  {
   "cell_type": "markdown",
   "id": "89fe6b3a",
   "metadata": {
    "papermill": {
     "duration": 0.008018,
     "end_time": "2022-07-06T03:03:26.685048",
     "exception": false,
     "start_time": "2022-07-06T03:03:26.677030",
     "status": "completed"
    },
    "tags": []
   },
   "source": [
    "Above barplot suggests that 23 days plan yields max profit per customer"
   ]
  },
  {
   "cell_type": "markdown",
   "id": "e2adc003",
   "metadata": {
    "papermill": {
     "duration": 0.00775,
     "end_time": "2022-07-06T03:03:26.701098",
     "exception": false,
     "start_time": "2022-07-06T03:03:26.693348",
     "status": "completed"
    },
    "tags": []
   },
   "source": [
    "**Thank You :)**\n",
    "\n",
    "Please share your feedback and suggestions."
   ]
  }
 ],
 "metadata": {
  "kernelspec": {
   "display_name": "Python 3",
   "language": "python",
   "name": "python3"
  },
  "language_info": {
   "codemirror_mode": {
    "name": "ipython",
    "version": 3
   },
   "file_extension": ".py",
   "mimetype": "text/x-python",
   "name": "python",
   "nbconvert_exporter": "python",
   "pygments_lexer": "ipython3",
   "version": "3.7.12"
  },
  "papermill": {
   "default_parameters": {},
   "duration": 13.083056,
   "end_time": "2022-07-06T03:03:27.731193",
   "environment_variables": {},
   "exception": null,
   "input_path": "__notebook__.ipynb",
   "output_path": "__notebook__.ipynb",
   "parameters": {},
   "start_time": "2022-07-06T03:03:14.648137",
   "version": "2.3.4"
  }
 },
 "nbformat": 4,
 "nbformat_minor": 5
}

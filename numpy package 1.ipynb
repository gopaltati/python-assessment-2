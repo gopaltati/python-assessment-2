{
 "cells": [
  {
   "cell_type": "markdown",
   "metadata": {},
   "source": [
    "<H1> NUMPY</H1>"
   ]
  },
  {
   "cell_type": "code",
   "execution_count": null,
   "metadata": {
    "tags": []
   },
   "outputs": [],
   "source": [
    "#!pip install numpy  numpy in c:\\users\\91756\\anaconda3\\lib\\site-packages (1.24.3)"
   ]
  },
  {
   "cell_type": "code",
   "execution_count": 1,
   "metadata": {
    "tags": []
   },
   "outputs": [],
   "source": [
    "import numpy as np"
   ]
  },
  {
   "cell_type": "code",
   "execution_count": null,
   "metadata": {
    "scrolled": true,
    "tags": []
   },
   "outputs": [],
   "source": [
    "a1 = np.arange(2,21,2)  #arange is used to create an array(range,step)\n",
    "a1"
   ]
  },
  {
   "cell_type": "code",
   "execution_count": null,
   "metadata": {
    "tags": []
   },
   "outputs": [],
   "source": [
    "l1 = [2,3,4,5,6,7]\n",
    "l1*2"
   ]
  },
  {
   "cell_type": "code",
   "execution_count": null,
   "metadata": {
    "tags": []
   },
   "outputs": [],
   "source": [
    "a2 = np.arange(2,42,2) \n",
    "a2*2"
   ]
  },
  {
   "cell_type": "code",
   "execution_count": null,
   "metadata": {
    "tags": []
   },
   "outputs": [],
   "source": [
    "type(a2)"
   ]
  },
  {
   "cell_type": "code",
   "execution_count": null,
   "metadata": {
    "tags": []
   },
   "outputs": [],
   "source": [
    "a2.shape"
   ]
  },
  {
   "cell_type": "code",
   "execution_count": null,
   "metadata": {
    "tags": []
   },
   "outputs": [],
   "source": [
    "a2_reshaped=a2.reshape(4,5) #to change order of an array"
   ]
  },
  {
   "cell_type": "code",
   "execution_count": null,
   "metadata": {
    "tags": []
   },
   "outputs": [],
   "source": [
    "a2_reshaped.shape"
   ]
  },
  {
   "cell_type": "code",
   "execution_count": null,
   "metadata": {
    "tags": []
   },
   "outputs": [],
   "source": [
    "a2_reshaped.dtype"
   ]
  },
  {
   "cell_type": "code",
   "execution_count": null,
   "metadata": {
    "tags": []
   },
   "outputs": [],
   "source": [
    "a3 = np.arange(3.2,15.3,dtype='float')\n",
    "a3"
   ]
  },
  {
   "cell_type": "code",
   "execution_count": null,
   "metadata": {
    "tags": []
   },
   "outputs": [],
   "source": [
    "a = [2,4,5,6,8] #list\n",
    "a5 = np.array(a)\n",
    "print(a)\n",
    "a5"
   ]
  },
  {
   "cell_type": "code",
   "execution_count": null,
   "metadata": {
    "tags": []
   },
   "outputs": [],
   "source": [
    "marks = np.array([98,44.5,32,87,65],dtype='float')\n",
    "marks"
   ]
  },
  {
   "cell_type": "code",
   "execution_count": null,
   "metadata": {},
   "outputs": [],
   "source": []
  },
  {
   "cell_type": "code",
   "execution_count": null,
   "metadata": {},
   "outputs": [],
   "source": []
  },
  {
   "cell_type": "code",
   "execution_count": null,
   "metadata": {},
   "outputs": [],
   "source": []
  },
  {
   "cell_type": "code",
   "execution_count": null,
   "metadata": {
    "tags": []
   },
   "outputs": [],
   "source": [
    "a = np.array([0.123456789121212], dtype=np.float16)\n",
    "print(\"16bit: \", a[0]) \n",
    "\n",
    "a = np.array([0.123456789121212], dtype=np.float32)\n",
    "print(\"32bit: \", a[0]) \n",
    "\n",
    "b = np.array([0.123456789121212121212], dtype=np.float64)\n",
    "print(\"64bit: \", b[0]) "
   ]
  },
  {
   "cell_type": "code",
   "execution_count": null,
   "metadata": {
    "tags": []
   },
   "outputs": [],
   "source": [
    "b = [[2,4,1],[3,6.3,5],[3,7,9.5]]\n",
    "a6 = np.array(b)\n",
    "a6"
   ]
  },
  {
   "cell_type": "code",
   "execution_count": null,
   "metadata": {
    "tags": []
   },
   "outputs": [],
   "source": [
    "dt = np.dtype([('age','int32'),('name','U21')])  #age is of int32 bits size and name is of 5 characters\n",
    "a7 = np.array([(21.4,'ramkrishna'),(13,'chandana surya')],dtype=dt) "
   ]
  },
  {
   "cell_type": "code",
   "execution_count": null,
   "metadata": {
    "tags": []
   },
   "outputs": [],
   "source": [
    "a7"
   ]
  },
  {
   "cell_type": "markdown",
   "metadata": {},
   "source": [
    "### slicing"
   ]
  },
  {
   "cell_type": "code",
   "execution_count": 4,
   "metadata": {
    "tags": []
   },
   "outputs": [
    {
     "data": {
      "text/plain": [
       "array([[734, 396, 563],\n",
       "       [567, 952, 142],\n",
       "       [405, 910, 116]])"
      ]
     },
     "execution_count": 4,
     "metadata": {},
     "output_type": "execute_result"
    }
   ],
   "source": [
    "a8 = np.array([[734,396,563],[567,952,142],[405,910,116]])\n",
    "a8"
   ]
  },
  {
   "cell_type": "code",
   "execution_count": 5,
   "metadata": {
    "scrolled": true,
    "tags": []
   },
   "outputs": [
    {
     "data": {
      "text/plain": [
       "910"
      ]
     },
     "execution_count": 5,
     "metadata": {},
     "output_type": "execute_result"
    }
   ],
   "source": [
    "a8[2][1]"
   ]
  },
  {
   "cell_type": "code",
   "execution_count": 7,
   "metadata": {
    "tags": []
   },
   "outputs": [
    {
     "data": {
      "text/plain": [
       "array([[734, 396, 563],\n",
       "       [567, 952, 142],\n",
       "       [405, 910, 116]])"
      ]
     },
     "execution_count": 7,
     "metadata": {},
     "output_type": "execute_result"
    }
   ],
   "source": [
    "a8"
   ]
  },
  {
   "cell_type": "code",
   "execution_count": null,
   "metadata": {},
   "outputs": [],
   "source": [
    "a8[0:2,0:1]   #[rows,columns]"
   ]
  },
  {
   "cell_type": "code",
   "execution_count": 9,
   "metadata": {
    "scrolled": true,
    "tags": []
   },
   "outputs": [
    {
     "data": {
      "text/plain": [
       "array([[952, 142],\n",
       "       [910, 116]])"
      ]
     },
     "execution_count": 9,
     "metadata": {},
     "output_type": "execute_result"
    }
   ],
   "source": [
    "a8[1:3,1:3]"
   ]
  },
  {
   "cell_type": "code",
   "execution_count": null,
   "metadata": {},
   "outputs": [],
   "source": [
    "a8[1:,2:]"
   ]
  },
  {
   "cell_type": "code",
   "execution_count": 11,
   "metadata": {
    "tags": []
   },
   "outputs": [
    {
     "data": {
      "text/plain": [
       "array([0., 0., 0., 0., 0.])"
      ]
     },
     "execution_count": 11,
     "metadata": {},
     "output_type": "execute_result"
    }
   ],
   "source": [
    "np.zeros(5)"
   ]
  },
  {
   "cell_type": "code",
   "execution_count": 16,
   "metadata": {
    "tags": []
   },
   "outputs": [
    {
     "data": {
      "text/plain": [
       "array([[[0, 0, 0, ..., 0, 0, 0],\n",
       "        [0, 0, 0, ..., 0, 0, 0],\n",
       "        [0, 0, 0, ..., 0, 0, 0],\n",
       "        ...,\n",
       "        [0, 0, 0, ..., 0, 0, 0],\n",
       "        [0, 0, 0, ..., 0, 0, 0],\n",
       "        [0, 0, 0, ..., 0, 0, 0]],\n",
       "\n",
       "       [[0, 0, 0, ..., 0, 0, 0],\n",
       "        [0, 0, 0, ..., 0, 0, 0],\n",
       "        [0, 0, 0, ..., 0, 0, 0],\n",
       "        ...,\n",
       "        [0, 0, 0, ..., 0, 0, 0],\n",
       "        [0, 0, 0, ..., 0, 0, 0],\n",
       "        [0, 0, 0, ..., 0, 0, 0]],\n",
       "\n",
       "       [[0, 0, 0, ..., 0, 0, 0],\n",
       "        [0, 0, 0, ..., 0, 0, 0],\n",
       "        [0, 0, 0, ..., 0, 0, 0],\n",
       "        ...,\n",
       "        [0, 0, 0, ..., 0, 0, 0],\n",
       "        [0, 0, 0, ..., 0, 0, 0],\n",
       "        [0, 0, 0, ..., 0, 0, 0]]])"
      ]
     },
     "execution_count": 16,
     "metadata": {},
     "output_type": "execute_result"
    }
   ],
   "source": [
    "np.zeros([3,512,512],dtype=int)    #[no of arrays,rows,columns]"
   ]
  },
  {
   "cell_type": "code",
   "execution_count": 15,
   "metadata": {
    "tags": []
   },
   "outputs": [
    {
     "data": {
      "text/plain": [
       "array([[[0., 0., 0.],\n",
       "        [0., 0., 0.]],\n",
       "\n",
       "       [[0., 0., 0.],\n",
       "        [0., 0., 0.]]])"
      ]
     },
     "execution_count": 15,
     "metadata": {},
     "output_type": "execute_result"
    }
   ],
   "source": [
    "np.zeros([2,2,3])"
   ]
  },
  {
   "cell_type": "code",
   "execution_count": 17,
   "metadata": {
    "tags": []
   },
   "outputs": [
    {
     "data": {
      "text/plain": [
       "array([[[1., 1., 1., 1.],\n",
       "        [1., 1., 1., 1.]],\n",
       "\n",
       "       [[1., 1., 1., 1.],\n",
       "        [1., 1., 1., 1.]],\n",
       "\n",
       "       [[1., 1., 1., 1.],\n",
       "        [1., 1., 1., 1.]]])"
      ]
     },
     "execution_count": 17,
     "metadata": {},
     "output_type": "execute_result"
    }
   ],
   "source": [
    "np.ones([3,2,4])"
   ]
  },
  {
   "cell_type": "code",
   "execution_count": 18,
   "metadata": {
    "tags": []
   },
   "outputs": [
    {
     "data": {
      "text/plain": [
       "array([[1., 0., 0., 0.],\n",
       "       [0., 1., 0., 0.],\n",
       "       [0., 0., 1., 0.],\n",
       "       [0., 0., 0., 1.]])"
      ]
     },
     "execution_count": 18,
     "metadata": {},
     "output_type": "execute_result"
    }
   ],
   "source": [
    "np.eye(4)    #identity matrix"
   ]
  },
  {
   "cell_type": "code",
   "execution_count": 19,
   "metadata": {
    "tags": []
   },
   "outputs": [
    {
     "data": {
      "text/plain": [
       "3.141592653589793"
      ]
     },
     "execution_count": 19,
     "metadata": {},
     "output_type": "execute_result"
    }
   ],
   "source": [
    "np.pi #pi value"
   ]
  },
  {
   "cell_type": "code",
   "execution_count": 20,
   "metadata": {
    "tags": []
   },
   "outputs": [
    {
     "data": {
      "text/plain": [
       "2.718281828459045"
      ]
     },
     "execution_count": 20,
     "metadata": {},
     "output_type": "execute_result"
    }
   ],
   "source": [
    "np.e #exponential value"
   ]
  },
  {
   "cell_type": "code",
   "execution_count": 21,
   "metadata": {
    "tags": []
   },
   "outputs": [
    {
     "data": {
      "text/plain": [
       "6.283185307179586"
      ]
     },
     "execution_count": 21,
     "metadata": {},
     "output_type": "execute_result"
    }
   ],
   "source": [
    "import math    #tau value\n",
    "math.tau"
   ]
  },
  {
   "cell_type": "code",
   "execution_count": 25,
   "metadata": {
    "tags": []
   },
   "outputs": [
    {
     "data": {
      "text/plain": [
       "array([  2.        ,   4.02040816,   6.04081633,   8.06122449,\n",
       "        10.08163265,  12.10204082,  14.12244898,  16.14285714,\n",
       "        18.16326531,  20.18367347,  22.20408163,  24.2244898 ,\n",
       "        26.24489796,  28.26530612,  30.28571429,  32.30612245,\n",
       "        34.32653061,  36.34693878,  38.36734694,  40.3877551 ,\n",
       "        42.40816327,  44.42857143,  46.44897959,  48.46938776,\n",
       "        50.48979592,  52.51020408,  54.53061224,  56.55102041,\n",
       "        58.57142857,  60.59183673,  62.6122449 ,  64.63265306,\n",
       "        66.65306122,  68.67346939,  70.69387755,  72.71428571,\n",
       "        74.73469388,  76.75510204,  78.7755102 ,  80.79591837,\n",
       "        82.81632653,  84.83673469,  86.85714286,  88.87755102,\n",
       "        90.89795918,  92.91836735,  94.93877551,  96.95918367,\n",
       "        98.97959184, 101.        ])"
      ]
     },
     "execution_count": 25,
     "metadata": {},
     "output_type": "execute_result"
    }
   ],
   "source": [
    "np.linspace(2,101)      #it will divide between the range ito 50 equal parts by default"
   ]
  },
  {
   "cell_type": "code",
   "execution_count": 26,
   "metadata": {
    "tags": []
   },
   "outputs": [
    {
     "data": {
      "text/plain": [
       "array([2.        , 2.33333333, 2.66666667, 3.        , 3.33333333,\n",
       "       3.66666667, 4.        , 4.33333333, 4.66666667, 5.        ])"
      ]
     },
     "execution_count": 26,
     "metadata": {},
     "output_type": "execute_result"
    }
   ],
   "source": [
    "np.linspace(2,5,10) #it will divide in 10 parts"
   ]
  },
  {
   "cell_type": "code",
   "execution_count": 29,
   "metadata": {
    "tags": []
   },
   "outputs": [
    {
     "data": {
      "text/plain": [
       "array([ 2. , 11.9, 21.8, 31.7, 41.6, 51.5, 61.4, 71.3, 81.2, 91.1])"
      ]
     },
     "execution_count": 29,
     "metadata": {},
     "output_type": "execute_result"
    }
   ],
   "source": [
    "a = np.linspace(2,101,10,endpoint = False) #not getting end point i.e 5.\n",
    "a"
   ]
  },
  {
   "cell_type": "code",
   "execution_count": 31,
   "metadata": {
    "scrolled": true,
    "tags": []
   },
   "outputs": [
    {
     "data": {
      "text/plain": [
       "(array([  2.        ,   4.02040816,   6.04081633,   8.06122449,\n",
       "         10.08163265,  12.10204082,  14.12244898,  16.14285714,\n",
       "         18.16326531,  20.18367347,  22.20408163,  24.2244898 ,\n",
       "         26.24489796,  28.26530612,  30.28571429,  32.30612245,\n",
       "         34.32653061,  36.34693878,  38.36734694,  40.3877551 ,\n",
       "         42.40816327,  44.42857143,  46.44897959,  48.46938776,\n",
       "         50.48979592,  52.51020408,  54.53061224,  56.55102041,\n",
       "         58.57142857,  60.59183673,  62.6122449 ,  64.63265306,\n",
       "         66.65306122,  68.67346939,  70.69387755,  72.71428571,\n",
       "         74.73469388,  76.75510204,  78.7755102 ,  80.79591837,\n",
       "         82.81632653,  84.83673469,  86.85714286,  88.87755102,\n",
       "         90.89795918,  92.91836735,  94.93877551,  96.95918367,\n",
       "         98.97959184, 101.        ]),\n",
       " 2.020408163265306)"
      ]
     },
     "execution_count": 31,
     "metadata": {},
     "output_type": "execute_result"
    }
   ],
   "source": [
    "np.linspace(2,101,50,retstep = True)  #shows the difference of two outputs (all outputs)"
   ]
  },
  {
   "cell_type": "code",
   "execution_count": 32,
   "metadata": {
    "tags": []
   },
   "outputs": [
    {
     "data": {
      "text/plain": [
       "array([ 2.        ,  2.88888889,  3.77777778,  4.66666667,  5.55555556,\n",
       "        6.44444444,  7.33333333,  8.22222222,  9.11111111, 10.        ])"
      ]
     },
     "execution_count": 32,
     "metadata": {},
     "output_type": "execute_result"
    }
   ],
   "source": [
    "np.linspace(2,10,10)"
   ]
  },
  {
   "cell_type": "code",
   "execution_count": 33,
   "metadata": {
    "tags": []
   },
   "outputs": [
    {
     "data": {
      "text/plain": [
       "array([1.00000000e+02, 7.74263683e+02, 5.99484250e+03, 4.64158883e+04,\n",
       "       3.59381366e+05, 2.78255940e+06, 2.15443469e+07, 1.66810054e+08,\n",
       "       1.29154967e+09, 1.00000000e+10])"
      ]
     },
     "execution_count": 33,
     "metadata": {},
     "output_type": "execute_result"
    }
   ],
   "source": [
    "np.logspace(2,10,10)    #to find the log values default base is 10"
   ]
  },
  {
   "cell_type": "code",
   "execution_count": 34,
   "metadata": {
    "tags": []
   },
   "outputs": [
    {
     "data": {
      "text/plain": [
       "array([   4.        ,    7.4069977 ,   13.71590373,   25.39841683,\n",
       "         47.03150375,   87.09056001,  161.26989439,  298.63143413,\n",
       "        552.99058631, 1024.        ])"
      ]
     },
     "execution_count": 34,
     "metadata": {},
     "output_type": "execute_result"
    }
   ],
   "source": [
    "np.logspace(2,10,10,base = 2)   #base 2"
   ]
  },
  {
   "cell_type": "code",
   "execution_count": 35,
   "metadata": {
    "tags": []
   },
   "outputs": [
    {
     "data": {
      "text/plain": [
       "0.3010299956639812"
      ]
     },
     "execution_count": 35,
     "metadata": {},
     "output_type": "execute_result"
    }
   ],
   "source": [
    "np.log10(2)        #base is 10"
   ]
  },
  {
   "cell_type": "code",
   "execution_count": 37,
   "metadata": {
    "scrolled": true,
    "tags": []
   },
   "outputs": [
    {
     "data": {
      "text/plain": [
       "array([ 21.        , 138.5       ,   4.33333333,  10.        ])"
      ]
     },
     "execution_count": 37,
     "metadata": {},
     "output_type": "execute_result"
    }
   ],
   "source": [
    "np.array([21,277,13,40]) / np.array([1,2,3,4])   #division"
   ]
  },
  {
   "cell_type": "code",
   "execution_count": 38,
   "metadata": {
    "tags": []
   },
   "outputs": [
    {
     "data": {
      "text/plain": [
       "array([[734, 396, 563],\n",
       "       [567, 952, 142],\n",
       "       [405, 910, 116]])"
      ]
     },
     "execution_count": 38,
     "metadata": {},
     "output_type": "execute_result"
    }
   ],
   "source": [
    "a8"
   ]
  },
  {
   "cell_type": "code",
   "execution_count": 40,
   "metadata": {
    "tags": []
   },
   "outputs": [
    {
     "name": "stdout",
     "output_type": "stream",
     "text": [
      "1468\n",
      "792\n",
      "1126\n",
      "1134\n",
      "1904\n",
      "284\n",
      "810\n",
      "1820\n",
      "232\n"
     ]
    }
   ],
   "source": [
    " for i in np.nditer(a8):     #nditer is used for iteratoins \n",
    "        print(i*2)"
   ]
  },
  {
   "cell_type": "code",
   "execution_count": 45,
   "metadata": {
    "tags": []
   },
   "outputs": [
    {
     "data": {
      "text/plain": [
       "array([[0.34690095, 0.09365581, 0.17492742, 0.48452951, 0.26755886],\n",
       "       [0.72882396, 0.57953681, 0.47915283, 0.13938702, 0.98716618]])"
      ]
     },
     "execution_count": 45,
     "metadata": {},
     "output_type": "execute_result"
    }
   ],
   "source": [
    "a = np.random.rand(2,5)   #randomly generates the array between 0 and 1 of size 2*5\n",
    "a"
   ]
  },
  {
   "cell_type": "code",
   "execution_count": 48,
   "metadata": {
    "tags": []
   },
   "outputs": [
    {
     "data": {
      "text/plain": [
       "array([[ 1.27940424,  0.72538657, -0.93264541, -0.66870795, -0.05299673],\n",
       "       [-0.32753809,  0.56648173, -0.29433898,  0.71187804, -0.29158397]])"
      ]
     },
     "execution_count": 48,
     "metadata": {},
     "output_type": "execute_result"
    }
   ],
   "source": [
    "a1 = np.random.randn(2,5)  #randomly generates the array in negatives of size 2*5\n",
    "a1"
   ]
  },
  {
   "cell_type": "code",
   "execution_count": 59,
   "metadata": {
    "tags": []
   },
   "outputs": [
    {
     "data": {
      "text/plain": [
       "array([[57,  7, 54],\n",
       "       [10, 22, 28],\n",
       "       [50, 11, 34]])"
      ]
     },
     "execution_count": 59,
     "metadata": {},
     "output_type": "execute_result"
    }
   ],
   "source": [
    "a2 = np.random.randint(1,60,size = (3,3))   #only integers value\n",
    "a2"
   ]
  },
  {
   "cell_type": "code",
   "execution_count": 60,
   "metadata": {
    "tags": []
   },
   "outputs": [
    {
     "data": {
      "text/plain": [
       "array([[57,  7, 54],\n",
       "       [10, 22, 28],\n",
       "       [50, 11, 34],\n",
       "       [ 3,  6,  7]])"
      ]
     },
     "execution_count": 60,
     "metadata": {},
     "output_type": "execute_result"
    }
   ],
   "source": [
    "a3 = np.array([[3,6,7]])\n",
    "a4 = np.concatenate((a2,a3))\n",
    "a4"
   ]
  },
  {
   "cell_type": "code",
   "execution_count": 61,
   "metadata": {
    "tags": []
   },
   "outputs": [
    {
     "data": {
      "text/plain": [
       "array([[57,  7, 54,  3],\n",
       "       [10, 22, 28,  6],\n",
       "       [50, 11, 34,  7]])"
      ]
     },
     "execution_count": 61,
     "metadata": {},
     "output_type": "execute_result"
    }
   ],
   "source": [
    "a5 = np.array([[3],[6],[7]])\n",
    "a6 = np.concatenate((a2,a5),axis = 1)\n",
    "a6"
   ]
  },
  {
   "cell_type": "markdown",
   "metadata": {},
   "source": [
    "### Broadcasting"
   ]
  },
  {
   "cell_type": "code",
   "execution_count": 62,
   "metadata": {
    "tags": []
   },
   "outputs": [
    {
     "data": {
      "text/plain": [
       "matrix([[1, 2, 3],\n",
       "        [4, 5, 6],\n",
       "        [7, 8, 9]])"
      ]
     },
     "execution_count": 62,
     "metadata": {},
     "output_type": "execute_result"
    }
   ],
   "source": [
    "a = np.matrix([[1,2,3],[4,5,6],[7,8,9]])\n",
    "b = np.matrix([[100,100,100],[100,100,100],[100,100,100]])\n",
    "\n",
    "a"
   ]
  },
  {
   "cell_type": "code",
   "execution_count": 63,
   "metadata": {
    "tags": []
   },
   "outputs": [
    {
     "data": {
      "text/plain": [
       "matrix([[100, 100, 100],\n",
       "        [100, 100, 100],\n",
       "        [100, 100, 100]])"
      ]
     },
     "execution_count": 63,
     "metadata": {},
     "output_type": "execute_result"
    }
   ],
   "source": [
    "b"
   ]
  },
  {
   "cell_type": "code",
   "execution_count": 66,
   "metadata": {
    "tags": []
   },
   "outputs": [
    {
     "data": {
      "text/plain": [
       "matrix([[ 600,  600,  600],\n",
       "        [1500, 1500, 1500],\n",
       "        [2400, 2400, 2400]])"
      ]
     },
     "execution_count": 66,
     "metadata": {},
     "output_type": "execute_result"
    }
   ],
   "source": [
    "np."
   ]
  },
  {
   "cell_type": "code",
   "execution_count": 65,
   "metadata": {
    "tags": []
   },
   "outputs": [
    {
     "data": {
      "text/plain": [
       "matrix([[-99, -98, -97],\n",
       "        [-96, -95, -94],\n",
       "        [-93, -92, -91]])"
      ]
     },
     "execution_count": 65,
     "metadata": {},
     "output_type": "execute_result"
    }
   ],
   "source": [
    "a-b"
   ]
  },
  {
   "cell_type": "code",
   "execution_count": null,
   "metadata": {},
   "outputs": [],
   "source": [
    "c = np.matrix([100,100,100])"
   ]
  },
  {
   "cell_type": "code",
   "execution_count": null,
   "metadata": {},
   "outputs": [],
   "source": [
    "c"
   ]
  },
  {
   "cell_type": "code",
   "execution_count": null,
   "metadata": {},
   "outputs": [],
   "source": [
    "a+c"
   ]
  },
  {
   "cell_type": "code",
   "execution_count": null,
   "metadata": {},
   "outputs": [],
   "source": [
    "b+c"
   ]
  },
  {
   "cell_type": "code",
   "execution_count": null,
   "metadata": {},
   "outputs": [],
   "source": [
    "d = np.matrix([100])"
   ]
  },
  {
   "cell_type": "code",
   "execution_count": null,
   "metadata": {
    "scrolled": true
   },
   "outputs": [],
   "source": [
    "d"
   ]
  },
  {
   "cell_type": "code",
   "execution_count": null,
   "metadata": {},
   "outputs": [],
   "source": [
    "type(d)"
   ]
  },
  {
   "cell_type": "code",
   "execution_count": null,
   "metadata": {},
   "outputs": [],
   "source": [
    "a+d"
   ]
  },
  {
   "cell_type": "code",
   "execution_count": null,
   "metadata": {},
   "outputs": [],
   "source": [
    "b+d"
   ]
  },
  {
   "cell_type": "code",
   "execution_count": null,
   "metadata": {},
   "outputs": [],
   "source": [
    "arr = np.array([0, 1, 2, 3, 4, 5, 6, 7, 9])"
   ]
  },
  {
   "cell_type": "code",
   "execution_count": null,
   "metadata": {},
   "outputs": [],
   "source": [
    "arr"
   ]
  },
  {
   "cell_type": "code",
   "execution_count": null,
   "metadata": {},
   "outputs": [],
   "source": [
    "arr[arr % 2 == 1]"
   ]
  },
  {
   "cell_type": "code",
   "execution_count": 2,
   "metadata": {},
   "outputs": [
    {
     "name": "stdout",
     "output_type": "stream",
     "text": [
      "Original array:\n",
      " [[1 2 3 4]\n",
      " [5 2 4 2]\n",
      " [1 2 0 1]]\n",
      "---------------\n",
      "Reshaped array:\n",
      " [[[1 2 3]\n",
      "  [4 5 2]]\n",
      "\n",
      " [[4 2 1]\n",
      "  [2 0 1]]]\n"
     ]
    }
   ],
   "source": [
    "# Reshaping 3X4 array to 2X2X3 array\n",
    "arr = np.array([[1, 2, 3, 4],\n",
    "                [5, 2, 4, 2],\n",
    "                [1, 2, 0, 1]])\n",
    "\n",
    "newarr = arr.reshape(2, 2, 3)\n",
    "\n",
    "print (\"Original array:\\n\", arr)\n",
    "print(\"---------------\")\n",
    "print (\"Reshaped array:\\n\", newarr)\n"
   ]
  },
  {
   "cell_type": "code",
   "execution_count": 3,
   "metadata": {},
   "outputs": [
    {
     "name": "stdout",
     "output_type": "stream",
     "text": [
      "Array with first 2 rows and alternatecolumns(0 and 2):\n",
      " [[-1.  0.]\n",
      " [ 4.  6.]]\n",
      "\n",
      "Elements at indices (0, 3), (1, 2), (2, 1),(3, 0):\n",
      " [4. 6. 0. 3.]\n",
      "\n",
      "Elements greater than 0:\n",
      " [2.  4.  4.  6.  2.6 7.  8.  3.  4.  2. ]\n"
     ]
    }
   ],
   "source": [
    "# Python program to demonstrate\n",
    "# indexing in numpy\n",
    "import numpy as np\n",
    "\n",
    "# An exemplar array\n",
    "arr = np.array([[-1, 2, 0, 4],\n",
    "                [4, -0.5, 6, 0],\n",
    "                [2.6, 0, 7, 8],\n",
    "                [3, -7, 4, 2.0]])\n",
    "\n",
    "# Slicing array\n",
    "temp = arr[:2, ::2]\n",
    "print (\"Array with first 2 rows and alternate\"\n",
    "                    \"columns(0 and 2):\\n\", temp)\n",
    "\n",
    "# Integer array indexing example\n",
    "temp = arr[[0, 1, 2, 3], [3, 2, 1, 0]]\n",
    "print (\"\\nElements at indices (0, 3), (1, 2), (2, 1),\"\n",
    "                                    \"(3, 0):\\n\", temp)\n",
    "\n",
    "# boolean array indexing example\n",
    "cond = arr > 0 # cond is a boolean array\n",
    "temp = arr[cond]\n",
    "print (\"\\nElements greater than 0:\\n\", temp)\n"
   ]
  },
  {
   "cell_type": "code",
   "execution_count": 4,
   "metadata": {},
   "outputs": [
    {
     "name": "stdout",
     "output_type": "stream",
     "text": [
      "Adding 1 to every element: [2 3 6 4]\n",
      "Subtracting 3 from each element: [-2 -1  2  0]\n",
      "Multiplying each element by 10: [10 20 50 30]\n",
      "Squaring each element: [ 1  4 25  9]\n",
      "Doubled each element of original array: [ 2  4 10  6]\n",
      "\n",
      "Original array:\n",
      " [[1 2 3]\n",
      " [3 4 5]\n",
      " [9 6 0]]\n",
      "Transpose of array:\n",
      " [[1 3 9]\n",
      " [2 4 6]\n",
      " [3 5 0]]\n"
     ]
    }
   ],
   "source": [
    "# Python program to demonstrate\n",
    "# basic operations on single array\n",
    "import numpy as np\n",
    "\n",
    "a = np.array([1, 2, 5, 3])\n",
    "\n",
    "# add 1 to every element\n",
    "print (\"Adding 1 to every element:\", a+1)\n",
    "\n",
    "# subtract 3 from each element\n",
    "print (\"Subtracting 3 from each element:\", a-3)\n",
    "\n",
    "# multiply each element by 10\n",
    "print (\"Multiplying each element by 10:\", a*10)\n",
    "\n",
    "# square each element\n",
    "print (\"Squaring each element:\", a**2)\n",
    "\n",
    "# modify existing array\n",
    "a *= 2\n",
    "print (\"Doubled each element of original array:\", a)\n",
    "\n",
    "# transpose of array\n",
    "a = np.array([[1, 2, 3], [3, 4, 5], [9, 6, 0]])\n",
    "\n",
    "print (\"\\nOriginal array:\\n\", a)\n",
    "print (\"Transpose of array:\\n\", a.T)\n"
   ]
  },
  {
   "cell_type": "code",
   "execution_count": 5,
   "metadata": {},
   "outputs": [
    {
     "name": "stdout",
     "output_type": "stream",
     "text": [
      "Array elements in sorted order:\n",
      " [-1  0  1  2  3  4  4  5  6]\n",
      "Row-wise sorted array:\n",
      " [[ 1  2  4]\n",
      " [ 3  4  6]\n",
      " [-1  0  5]]\n",
      "Column wise sort by applying merge-sort:\n",
      " [[ 0 -1  2]\n",
      " [ 1  4  5]\n",
      " [ 3  4  6]]\n",
      "\n",
      "Array sorted by names:\n",
      " [(b'Aakash', 2009, 9. ) (b'Ajay', 2008, 8.7) (b'Hrithik', 2009, 8.5)\n",
      " (b'Pankaj', 2008, 7.9)]\n",
      "Array sorted by graduation year and then cgpa:\n",
      " [(b'Pankaj', 2008, 7.9) (b'Ajay', 2008, 8.7) (b'Hrithik', 2009, 8.5)\n",
      " (b'Aakash', 2009, 9. )]\n"
     ]
    }
   ],
   "source": [
    "# Python program to demonstrate sorting in numpy\n",
    "import numpy as np\n",
    "\n",
    "a = np.array([[1, 4, 2],\n",
    "                 [3, 4, 6],\n",
    "              [0, -1, 5]])\n",
    "\n",
    "# sorted array\n",
    "print (\"Array elements in sorted order:\\n\",\n",
    "                    np.sort(a, axis = None))\n",
    "\n",
    "# sort array row-wise\n",
    "print (\"Row-wise sorted array:\\n\",\n",
    "                np.sort(a, axis = 1))\n",
    "\n",
    "# specify sort algorithm\n",
    "print (\"Column wise sort by applying merge-sort:\\n\",\n",
    "            np.sort(a, axis = 0, kind = 'mergesort'))\n",
    "\n",
    "# Example to show sorting of structured array\n",
    "# set alias names for dtypes\n",
    "dtypes = [('name', 'S10'), ('grad_year', int), ('cgpa', float)]\n",
    "\n",
    "# Values to be put in array\n",
    "values = [('Hrithik', 2009, 8.5), ('Ajay', 2008, 8.7), \n",
    "           ('Pankaj', 2008, 7.9), ('Aakash', 2009, 9.0)]\n",
    "           \n",
    "# Creating array\n",
    "arr = np.array(values, dtype = dtypes)\n",
    "print (\"\\nArray sorted by names:\\n\",\n",
    "            np.sort(arr, order = 'name'))\n",
    "            \n",
    "print (\"Array sorted by graduation year and then cgpa:\\n\",\n",
    "                np.sort(arr, order = ['grad_year', 'cgpa']))\n"
   ]
  },
  {
   "cell_type": "code",
   "execution_count": 6,
   "metadata": {},
   "outputs": [
    {
     "name": "stdout",
     "output_type": "stream",
     "text": [
      "[1 0 1]\n",
      "[0 1 0]\n"
     ]
    }
   ],
   "source": [
    "# Python program explaining\n",
    "# numpy.count() function\n",
    " \n",
    "import numpy as np\n",
    " \n",
    "a=np.array(['geeks', 'for', 'geeks'])\n",
    " \n",
    "# counting a substring\n",
    "print(np.char.count(a,'geek'))\n",
    " \n",
    "# counting a substring\n",
    "print(np.char.count(a, 'fo'))\n"
   ]
  },
  {
   "cell_type": "code",
   "execution_count": 7,
   "metadata": {},
   "outputs": [
    {
     "name": "stdout",
     "output_type": "stream",
     "text": [
      "column a, column b\n",
      "9   4\n",
      "3   6\n",
      "1   9\n",
      "3   2\n",
      "4   1\n",
      "3   8\n",
      "6   7\n",
      "Sorted indices-> [2 3 1 5 4 6 0]\n"
     ]
    }
   ],
   "source": [
    "# Python code to demonstrate working of \n",
    "# np.lexsort() \n",
    "import numpy as np \n",
    "\n",
    "# Numpy array created \n",
    "a = np.array([9, 3, 1, 3, 4, 3, 6]) # First column \n",
    "b = np.array([4, 6, 9, 2, 1, 8, 7]) # Second column \n",
    "print('column a, column b') \n",
    "for (i, j) in zip(a, b): \n",
    "\tprint(i, ' ', j) \n",
    "\n",
    "ind = np.lexsort((b, a)) # Sort by a then by b \n",
    "print('Sorted indices->', ind) \n"
   ]
  },
  {
   "cell_type": "code",
   "execution_count": 2,
   "metadata": {},
   "outputs": [
    {
     "name": "stdout",
     "output_type": "stream",
     "text": [
      "[1 2 3 4 5 6 7]\n"
     ]
    }
   ],
   "source": [
    "# 1D arrya\n",
    "import numpy as np\n",
    "arr = np.array([1,2,3,4,5,6,7,])\n",
    "print(arr)"
   ]
  },
  {
   "cell_type": "code",
   "execution_count": 3,
   "metadata": {
    "scrolled": true
   },
   "outputs": [
    {
     "name": "stdout",
     "output_type": "stream",
     "text": [
      "[[1 2 3]\n",
      " [4 5 6]]\n"
     ]
    }
   ],
   "source": [
    "#2d array\n",
    "import numpy as np\n",
    "\n",
    "arr = np.array([[1, 2, 3], [4, 5, 6]])\n",
    "\n",
    "print(arr)\n"
   ]
  },
  {
   "cell_type": "code",
   "execution_count": 4,
   "metadata": {},
   "outputs": [
    {
     "name": "stdout",
     "output_type": "stream",
     "text": [
      "[[[1 2 3]\n",
      "  [4 5 6]]\n",
      "\n",
      " [[1 2 3]\n",
      "  [4 5 6]]]\n"
     ]
    }
   ],
   "source": [
    "# 3d array\n",
    "import numpy as np\n",
    "\n",
    "arr = np.array([[[1, 2, 3], [4, 5, 6]], [[1, 2, 3], [4, 5, 6]]])\n",
    "\n",
    "print(arr)\n"
   ]
  },
  {
   "cell_type": "code",
   "execution_count": 5,
   "metadata": {},
   "outputs": [
    {
     "name": "stdout",
     "output_type": "stream",
     "text": [
      "0\n",
      "1\n",
      "2\n",
      "3\n"
     ]
    }
   ],
   "source": [
    "import numpy as np\n",
    "\n",
    "a = np.array(42)\n",
    "b = np.array([1, 2, 3, 4, 5])\n",
    "c = np.array([[1, 2, 3], [4, 5, 6]])\n",
    "d = np.array([[[1, 2, 3], [4, 5, 6]], [[1, 2, 3], [4, 5, 6]]])\n",
    "\n",
    "print(a.ndim)\n",
    "print(b.ndim)\n",
    "print(c.ndim)\n",
    "print(d.ndim)\n"
   ]
  },
  {
   "cell_type": "code",
   "execution_count": 6,
   "metadata": {},
   "outputs": [
    {
     "name": "stdout",
     "output_type": "stream",
     "text": [
      "7\n"
     ]
    }
   ],
   "source": [
    "import numpy as np\n",
    "\n",
    "arr = np.array([1, 2, 3, 4])\n",
    "\n",
    "print(arr[2] + arr[3])\n"
   ]
  },
  {
   "cell_type": "code",
   "execution_count": 7,
   "metadata": {},
   "outputs": [
    {
     "name": "stdout",
     "output_type": "stream",
     "text": [
      "2nd element on 1st row:  2\n"
     ]
    }
   ],
   "source": [
    "import numpy as np\n",
    "\n",
    "arr = np.array([[1,2,3,4,5], [6,7,8,9,10]])\n",
    "\n",
    "print('2nd element on 1st row: ', arr[0, 1])\n"
   ]
  },
  {
   "cell_type": "code",
   "execution_count": 8,
   "metadata": {},
   "outputs": [
    {
     "name": "stdout",
     "output_type": "stream",
     "text": [
      "5th element on 2nd row:  10\n"
     ]
    }
   ],
   "source": [
    "import numpy as np\n",
    "\n",
    "arr = np.array([[1,2,3,4,5], [6,7,8,9,10]])\n",
    "\n",
    "print('5th element on 2nd row: ', arr[1, 4])\n"
   ]
  },
  {
   "cell_type": "code",
   "execution_count": 9,
   "metadata": {},
   "outputs": [
    {
     "name": "stdout",
     "output_type": "stream",
     "text": [
      "6\n"
     ]
    }
   ],
   "source": [
    "import numpy as np\n",
    "\n",
    "arr = np.array([[[1, 2, 3], [4, 5, 6]], [[7, 8, 9], [10, 11, 12]]])\n",
    "\n",
    "print(arr[0, 1, 2])\n"
   ]
  },
  {
   "cell_type": "code",
   "execution_count": 10,
   "metadata": {},
   "outputs": [
    {
     "name": "stdout",
     "output_type": "stream",
     "text": [
      "[False  True  True]\n"
     ]
    }
   ],
   "source": [
    "import numpy as np\n",
    "\n",
    "arr = np.array([True, False, True])\n",
    "\n",
    "print(np.sort(arr))\n"
   ]
  },
  {
   "cell_type": "code",
   "execution_count": 11,
   "metadata": {},
   "outputs": [
    {
     "name": "stdout",
     "output_type": "stream",
     "text": [
      "[[2 3 4]\n",
      " [0 1 5]]\n"
     ]
    }
   ],
   "source": [
    "import numpy as np\n",
    "\n",
    "arr = np.array([[3, 2, 4], [5, 0, 1]])\n",
    "\n",
    "print(np.sort(arr))\n"
   ]
  },
  {
   "cell_type": "code",
   "execution_count": 12,
   "metadata": {},
   "outputs": [
    {
     "name": "stdout",
     "output_type": "stream",
     "text": [
      "[42  2  3  4  5]\n",
      "[1 2 3 4 5]\n"
     ]
    }
   ],
   "source": [
    "import numpy as np\n",
    "\n",
    "arr = np.array([1, 2, 3, 4, 5])\n",
    "x = arr.copy()\n",
    "arr[0] = 42\n",
    "\n",
    "print(arr)\n",
    "print(x)\n"
   ]
  },
  {
   "cell_type": "code",
   "execution_count": 13,
   "metadata": {},
   "outputs": [
    {
     "name": "stdout",
     "output_type": "stream",
     "text": [
      "[42  2  3  4  5]\n"
     ]
    }
   ],
   "source": [
    "import numpy as np\n",
    "\n",
    "arr = np.array([1, 2, 3, 4, 5])\n",
    "x = arr.view()\n",
    "arr[0] = 42\n",
    "\n",
    "print(arr)\n"
   ]
  },
  {
   "cell_type": "code",
   "execution_count": 14,
   "metadata": {},
   "outputs": [
    {
     "name": "stdout",
     "output_type": "stream",
     "text": [
      "[ True False  True]\n",
      "bool\n"
     ]
    }
   ],
   "source": [
    "import numpy as np\n",
    "\n",
    "arr = np.array([1, 0, 3])\n",
    "\n",
    "newarr = arr.astype(bool)\n",
    "\n",
    "print(newarr)\n",
    "print(newarr.dtype)\n"
   ]
  },
  {
   "cell_type": "code",
   "execution_count": 15,
   "metadata": {},
   "outputs": [
    {
     "name": "stdout",
     "output_type": "stream",
     "text": [
      "[1 2 3]\n",
      "int32\n"
     ]
    }
   ],
   "source": [
    "import numpy as np\n",
    "\n",
    "arr = np.array([1.1, 2.1, 3.1])\n",
    "\n",
    "newarr = arr.astype(int)\n",
    "\n",
    "print(newarr)\n",
    "print(newarr.dtype)\n"
   ]
  },
  {
   "cell_type": "code",
   "execution_count": 16,
   "metadata": {},
   "outputs": [
    {
     "name": "stdout",
     "output_type": "stream",
     "text": [
      "[1 2 3]\n",
      "int32\n"
     ]
    }
   ],
   "source": [
    "import numpy as np\n",
    "\n",
    "arr = np.array([1.1, 2.1, 3.1])\n",
    "\n",
    "newarr = arr.astype('i')\n",
    "\n",
    "print(newarr)\n",
    "print(newarr.dtype)\n"
   ]
  },
  {
   "cell_type": "code",
   "execution_count": 17,
   "metadata": {},
   "outputs": [
    {
     "name": "stdout",
     "output_type": "stream",
     "text": [
      "[[ 1  2  3]\n",
      " [ 4  5  6]\n",
      " [ 7  8  9]\n",
      " [10 11 12]]\n"
     ]
    }
   ],
   "source": [
    "import numpy as np\n",
    "\n",
    "arr = np.array([1, 2, 3, 4, 5, 6, 7, 8, 9, 10, 11, 12])\n",
    "\n",
    "newarr = arr.reshape(4, 3)\n",
    "\n",
    "print(newarr)\n"
   ]
  },
  {
   "cell_type": "code",
   "execution_count": 18,
   "metadata": {},
   "outputs": [
    {
     "name": "stdout",
     "output_type": "stream",
     "text": [
      "[[[ 1  2]\n",
      "  [ 3  4]\n",
      "  [ 5  6]]\n",
      "\n",
      " [[ 7  8]\n",
      "  [ 9 10]\n",
      "  [11 12]]]\n"
     ]
    }
   ],
   "source": [
    "import numpy as np\n",
    "\n",
    "arr = np.array([1, 2, 3, 4, 5, 6, 7, 8, 9, 10, 11, 12])\n",
    "\n",
    "newarr = arr.reshape(2, 3, 2)\n",
    "\n",
    "print(newarr)\n"
   ]
  },
  {
   "cell_type": "code",
   "execution_count": 19,
   "metadata": {},
   "outputs": [
    {
     "name": "stdout",
     "output_type": "stream",
     "text": [
      "[1 2 3 4 5 6]\n"
     ]
    }
   ],
   "source": [
    "import numpy as np\n",
    "\n",
    "arr = np.array([[1, 2, 3], [4, 5, 6]])\n",
    "\n",
    "newarr = arr.reshape(-1)\n",
    "\n",
    "print(newarr)\n"
   ]
  },
  {
   "cell_type": "code",
   "execution_count": null,
   "metadata": {},
   "outputs": [],
   "source": []
  }
 ],
 "metadata": {
  "kernelspec": {
   "display_name": "Python 3 (ipykernel)",
   "language": "python",
   "name": "python3"
  },
  "language_info": {
   "codemirror_mode": {
    "name": "ipython",
    "version": 3
   },
   "file_extension": ".py",
   "mimetype": "text/x-python",
   "name": "python",
   "nbconvert_exporter": "python",
   "pygments_lexer": "ipython3",
   "version": "3.11.5"
  }
 },
 "nbformat": 4,
 "nbformat_minor": 4
}
